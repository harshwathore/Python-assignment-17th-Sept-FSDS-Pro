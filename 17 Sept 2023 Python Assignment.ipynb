{
 "cells": [
  {
   "cell_type": "markdown",
   "id": "3db5559d",
   "metadata": {},
   "source": [
    "# For Loop :-\n"
   ]
  },
  {
   "cell_type": "markdown",
   "id": "c7e4a9d5",
   "metadata": {},
   "source": [
    "Q1"
   ]
  },
  {
   "cell_type": "code",
   "execution_count": null,
   "id": "eafb9fab",
   "metadata": {},
   "outputs": [],
   "source": [
    "for i in range(1,11):\n",
    "    print(i)"
   ]
  },
  {
   "cell_type": "markdown",
   "id": "33431e37",
   "metadata": {},
   "source": [
    "Q2"
   ]
  },
  {
   "cell_type": "code",
   "execution_count": null,
   "id": "4e177410",
   "metadata": {},
   "outputs": [],
   "source": [
    "for loops are used for iterating over a known sequence or for\n",
    "a fixed number of times, while while loops are used for \n",
    "repeating a block of code as long as a specific condition remains"
   ]
  },
  {
   "cell_type": "markdown",
   "id": "405b9e2d",
   "metadata": {},
   "source": [
    "Q3"
   ]
  },
  {
   "cell_type": "code",
   "execution_count": null,
   "id": "c4833c9b",
   "metadata": {},
   "outputs": [],
   "source": [
    "sum = 0\n",
    "for i in range(1,101):\n",
    "    sum = sum + i\n",
    "print(sum)"
   ]
  },
  {
   "cell_type": "markdown",
   "id": "c7bac757",
   "metadata": {},
   "source": [
    "Q4"
   ]
  },
  {
   "cell_type": "code",
   "execution_count": null,
   "id": "152be82d",
   "metadata": {},
   "outputs": [],
   "source": [
    "l = [1,34,67,80,90];\n",
    "for i in l:\n",
    "    print(i)"
   ]
  },
  {
   "cell_type": "markdown",
   "id": "9156c68e",
   "metadata": {},
   "source": [
    "Q5"
   ]
  },
  {
   "cell_type": "code",
   "execution_count": null,
   "id": "37ddd589",
   "metadata": {},
   "outputs": [],
   "source": [
    "pro = 1\n",
    "l = [1,3,5,4]\n",
    "for i in l:\n",
    "    pro = pro *i\n",
    "print(pro)"
   ]
  },
  {
   "cell_type": "markdown",
   "id": "3e056bb1",
   "metadata": {},
   "source": [
    "Q6"
   ]
  },
  {
   "cell_type": "code",
   "execution_count": null,
   "id": "67404294",
   "metadata": {},
   "outputs": [],
   "source": [
    "for i in range(1,21):\n",
    "    if(i%2==0):\n",
    "        print(i)\n",
    "    "
   ]
  },
  {
   "cell_type": "markdown",
   "id": "45734d21",
   "metadata": {},
   "source": [
    "Q7"
   ]
  },
  {
   "cell_type": "code",
   "execution_count": null,
   "id": "dd55ad07",
   "metadata": {},
   "outputs": [],
   "source": [
    "n = int(input(\"Enter a number \"))\n",
    "pro = 1\n",
    "for i in range(1,n+1):\n",
    "    pro = pro * i\n",
    "print(pro)"
   ]
  },
  {
   "cell_type": "markdown",
   "id": "49205d42",
   "metadata": {},
   "source": [
    "Q8"
   ]
  },
  {
   "cell_type": "code",
   "execution_count": null,
   "id": "9effe1fc",
   "metadata": {},
   "outputs": [],
   "source": [
    "s = \"Hello\"\n",
    "for i in s:\n",
    "    print(i)"
   ]
  },
  {
   "cell_type": "markdown",
   "id": "e5e5409d",
   "metadata": {},
   "source": [
    "Q9"
   ]
  },
  {
   "cell_type": "code",
   "execution_count": null,
   "id": "ab121dee",
   "metadata": {},
   "outputs": [],
   "source": [
    "l = [2,1,44,21,56,80,33,12]\n",
    "maxi = l[0]\n",
    "for i in l:\n",
    "    if(i>maxi):\n",
    "        maxi = i\n",
    "print(maxi)"
   ]
  },
  {
   "cell_type": "markdown",
   "id": "b138072c",
   "metadata": {},
   "source": [
    "Q10"
   ]
  },
  {
   "cell_type": "code",
   "execution_count": null,
   "id": "a03274b9",
   "metadata": {},
   "outputs": [],
   "source": [
    "l = [0,1]\n",
    "n = int(input(\"Enter the limit\"))\n",
    "for i in range(n):\n",
    "    l.append(l[-1]+l[-2])\n",
    "print(l)"
   ]
  },
  {
   "cell_type": "markdown",
   "id": "b5da26ab",
   "metadata": {},
   "source": [
    "Q11"
   ]
  },
  {
   "cell_type": "code",
   "execution_count": null,
   "id": "4555c327",
   "metadata": {},
   "outputs": [],
   "source": [
    "v = ['a','e','i','o','O','u','A','E','I','U']\n",
    "s = input(\"Enter a string \")\n",
    "cnt = 0\n",
    "for i in s:\n",
    "    if i in v:\n",
    "        cnt = cnt +1\n",
    "print(cnt)\n"
   ]
  },
  {
   "cell_type": "markdown",
   "id": "1c0fed1d",
   "metadata": {},
   "source": [
    "Q12"
   ]
  },
  {
   "cell_type": "code",
   "execution_count": null,
   "id": "e2b3871a",
   "metadata": {},
   "outputs": [],
   "source": [
    "n = int(input(\"Enter a number for you want table\"))\n",
    "for i in range(1,11):\n",
    "    print(\"5 *\",i,\" = \",i*n)\n"
   ]
  },
  {
   "cell_type": "markdown",
   "id": "07bb5f3c",
   "metadata": {},
   "source": [
    "Q13"
   ]
  },
  {
   "cell_type": "code",
   "execution_count": null,
   "id": "a9eefa0b",
   "metadata": {},
   "outputs": [],
   "source": [
    "l = [1,2,4,5]\n",
    "res = []\n",
    "for i in range(len(l)-1,-1,-1):\n",
    "    res.append(l[i])\n",
    "print(res)"
   ]
  },
  {
   "cell_type": "markdown",
   "id": "95c99731",
   "metadata": {},
   "source": [
    "Q14"
   ]
  },
  {
   "cell_type": "code",
   "execution_count": null,
   "id": "2f86fa3e",
   "metadata": {},
   "outputs": [],
   "source": [
    "l1 = [1,2,4,5,6]\n",
    "l2 = [2,3,5,6]\n",
    "for i in l1:\n",
    "    if i in l2:\n",
    "        print(i)\n"
   ]
  },
  {
   "cell_type": "markdown",
   "id": "9c879141",
   "metadata": {},
   "source": [
    "Q15"
   ]
  },
  {
   "cell_type": "code",
   "execution_count": null,
   "id": "5b7b4ffa",
   "metadata": {},
   "outputs": [],
   "source": [
    "my_dict = {\n",
    "    'name': \"hello\",\n",
    "    \"address\":\"Risod\",\n",
    "    \"phone \":\"No\"\n",
    "}\n",
    "for key in my_dict:\n",
    "    value = my_dict[key]\n",
    "    print(key,\"  :  \",value)"
   ]
  },
  {
   "cell_type": "markdown",
   "id": "fd52fb9a",
   "metadata": {},
   "source": [
    "Q16"
   ]
  },
  {
   "cell_type": "code",
   "execution_count": null,
   "id": "0184ed72",
   "metadata": {},
   "outputs": [],
   "source": [
    "n1 = int(input(\"Enter number 1 \"))\n",
    "n2 = int(input(\"Enter number 2 \"))\n",
    "mini = min(n1,n2)\n",
    "gcd = 0\n",
    "for i in range(1,mini+1):\n",
    "    if(n1%i==0 and n2%i==0):\n",
    "        gcd = i\n",
    "print(gcd)\n",
    "        "
   ]
  },
  {
   "cell_type": "markdown",
   "id": "114487f9",
   "metadata": {},
   "source": [
    "Q17"
   ]
  },
  {
   "cell_type": "code",
   "execution_count": null,
   "id": "ac9fa3ce",
   "metadata": {},
   "outputs": [],
   "source": [
    "s = input(\"Enter a string \")\n",
    "res = \"\"\n",
    "for i in range(len(s)-1,-1,-1):\n",
    "    res = res + s[i]\n",
    "if s==res:\n",
    "    print(\"String is palindrome \")\n",
    "else:\n",
    "    print(\"String is not Palindrome\")"
   ]
  },
  {
   "cell_type": "markdown",
   "id": "acb5c4f0",
   "metadata": {},
   "source": [
    "Q18"
   ]
  },
  {
   "cell_type": "code",
   "execution_count": null,
   "id": "d9eac5a8",
   "metadata": {},
   "outputs": [],
   "source": [
    "l = [1,2,4,7,3,1,4,6,7]\n",
    "res = []\n",
    "for i in l:\n",
    "    if i not in res:\n",
    "        res.append(i)\n",
    "print(res)"
   ]
  },
  {
   "cell_type": "markdown",
   "id": "74772b73",
   "metadata": {},
   "source": [
    "Q19"
   ]
  },
  {
   "cell_type": "code",
   "execution_count": null,
   "id": "94eaf2bc",
   "metadata": {},
   "outputs": [],
   "source": [
    "sen = input(\"Enter a sentence \")\n",
    "cnt =0\n",
    "for i in sen:\n",
    "    if i==\" \":\n",
    "        cnt = cnt +1\n",
    "cnt = cnt +1\n",
    "print(\"There are \",cnt,\"words in the string \")\n",
    "    "
   ]
  },
  {
   "cell_type": "markdown",
   "id": "23effcfd",
   "metadata": {},
   "source": [
    "Q20"
   ]
  },
  {
   "cell_type": "code",
   "execution_count": null,
   "id": "5ca4ba09",
   "metadata": {},
   "outputs": [],
   "source": [
    "sum = 0\n",
    "for i in range(1,51):\n",
    "    if(i%2!=0):\n",
    "        sum = sum + i\n",
    "print(sum)"
   ]
  },
  {
   "cell_type": "markdown",
   "id": "43daea80",
   "metadata": {},
   "source": [
    "Q21"
   ]
  },
  {
   "cell_type": "code",
   "execution_count": null,
   "id": "ef8aa772",
   "metadata": {},
   "outputs": [],
   "source": [
    "start_year = int(input(\"Enter start year \"))\n",
    "end_year = int(input(\"Enter end year \"))\n",
    "for year in range(start_year, end_year + 1):\n",
    "    if (year % 4 == 0 and year % 100 != 0) or (year % 400 == 0):\n",
    "        print(f\"{year} is a leap year\")\n",
    "    else:\n",
    "        print(f\"{year} is not a leap year\")"
   ]
  },
  {
   "cell_type": "markdown",
   "id": "4966c5dc",
   "metadata": {},
   "source": [
    "Q22"
   ]
  },
  {
   "cell_type": "code",
   "execution_count": 1,
   "id": "d59a2499",
   "metadata": {},
   "outputs": [
    {
     "name": "stdout",
     "output_type": "stream",
     "text": [
      "Enter a number 3\n",
      "Match not found \n"
     ]
    }
   ],
   "source": [
    "n = int(input(\"Enter a number \"))\n",
    "flag = 0\n",
    "for i in range(2,n+1):\n",
    "    if((i*i)==n):\n",
    "        print(\"Match found\",i)\n",
    "        flag =1\n",
    "if flag==0:\n",
    "    print(\"Match not found \")\n"
   ]
  },
  {
   "cell_type": "markdown",
   "id": "3859bbff",
   "metadata": {},
   "source": [
    "Q23"
   ]
  },
  {
   "cell_type": "code",
   "execution_count": null,
   "id": "b8e5182e",
   "metadata": {},
   "outputs": [],
   "source": [
    "n1 = int(input(\"Enter number 1 \"))\n",
    "n2 = int(input(\"Enter number 2 \"))\n",
    "lcm =0\n",
    "while(True):\n",
    "    i = max(n1,n2)\n",
    "    if(i%n1==0 and i%n2==0):\n",
    "        lcm = i\n",
    "        break\n",
    "    i = i+1\n",
    "    \n",
    "print(lcm)"
   ]
  },
  {
   "cell_type": "markdown",
   "id": "a5eb88de",
   "metadata": {},
   "source": [
    "# If else :\n"
   ]
  },
  {
   "cell_type": "markdown",
   "id": "d4071c2c",
   "metadata": {},
   "source": [
    "Q1"
   ]
  },
  {
   "cell_type": "code",
   "execution_count": 1,
   "id": "19a73b22",
   "metadata": {},
   "outputs": [
    {
     "name": "stdout",
     "output_type": "stream",
     "text": [
      "Enter a number: 4\n",
      "The number is positive.\n"
     ]
    }
   ],
   "source": [
    "number = float(input(\"Enter a number: \"))\n",
    "if number > 0:\n",
    "    print(\"The number is positive.\")\n",
    "elif number < 0:\n",
    "    print(\"The number is negative.\")\n",
    "else:\n",
    "    print(\"The number is zero.\")\n"
   ]
  },
  {
   "cell_type": "markdown",
   "id": "fd7446b5",
   "metadata": {},
   "source": [
    "Q2"
   ]
  },
  {
   "cell_type": "code",
   "execution_count": 2,
   "id": "5a6d87d1",
   "metadata": {},
   "outputs": [
    {
     "name": "stdout",
     "output_type": "stream",
     "text": [
      "Enter a number 3\n",
      "Number is odd\n"
     ]
    }
   ],
   "source": [
    "n = int(input(\"Enter a number \"))\n",
    "if(n%2==0):\n",
    "    print(\"Number is even \")\n",
    "else:\n",
    "    print(\"Number is odd\")\n"
   ]
  },
  {
   "cell_type": "markdown",
   "id": "531bbb5d",
   "metadata": {},
   "source": [
    "Q3"
   ]
  },
  {
   "cell_type": "code",
   "execution_count": 3,
   "id": "30849f00",
   "metadata": {},
   "outputs": [
    {
     "name": "stdout",
     "output_type": "stream",
     "text": [
      "Enter an integer: 4\n",
      "The number is positive.\n",
      "The positive number is even.\n"
     ]
    }
   ],
   "source": [
    "\"\"\"\"In Python, you can use nested if-else statements to create more complex conditional logic. \n",
    "Nesting means placing one if-else statement inside another. \n",
    "This allows you to evaluate multiple conditions and execute different code blocks based on those conditions.\n",
    "Here's how you can use nested if-else statements with an example:\"\"\"\n",
    "\n",
    "number = int(input(\"Enter an integer: \"))\n",
    "\n",
    "if number > 0:\n",
    "    print(\"The number is positive.\")\n",
    "    if number % 2 == 0:\n",
    "        print(\"The positive number is even.\")\n",
    "    else:\n",
    "        print(\"The positive number is odd.\")\n",
    "elif number < 0:\n",
    "    print(\"The number is negative.\")\n",
    "else:\n",
    "    print(\"The number is zero.\")\n"
   ]
  },
  {
   "cell_type": "markdown",
   "id": "a17cf395",
   "metadata": {},
   "source": [
    "Q4"
   ]
  },
  {
   "cell_type": "code",
   "execution_count": 4,
   "id": "fc7241d2",
   "metadata": {},
   "outputs": [
    {
     "name": "stdout",
     "output_type": "stream",
     "text": [
      "Enter the first number: 3\n",
      "Enter the second number: 6\n",
      "Enter the third number: 8\n",
      "The largest number among 3.0, 6.0, and 8.0 is 8.0\n"
     ]
    }
   ],
   "source": [
    "num1 = float(input(\"Enter the first number: \"))\n",
    "num2 = float(input(\"Enter the second number: \"))\n",
    "num3 = float(input(\"Enter the third number: \"))\n",
    "\n",
    "\n",
    "if num1 >= num2 and num1 >= num3:\n",
    "    largest = num1\n",
    "elif num2 >= num1 and num2 >= num3:\n",
    "    largest = num2\n",
    "else:\n",
    "    largest = num3\n",
    "\n",
    "print(f\"The largest number among {num1}, {num2}, and {num3} is {largest}\")\n"
   ]
  },
  {
   "cell_type": "markdown",
   "id": "379a615e",
   "metadata": {},
   "source": [
    "Q5"
   ]
  },
  {
   "cell_type": "code",
   "execution_count": 7,
   "id": "8ef75c07",
   "metadata": {},
   "outputs": [
    {
     "name": "stdout",
     "output_type": "stream",
     "text": [
      "Enter a number -3\n",
      "Absoulte value is  3\n"
     ]
    }
   ],
   "source": [
    "n = int(input(\"Enter a number \"))\n",
    "if(n<0):\n",
    "    print(\"Absoulte value is \",(-(n)))\n",
    "else:\n",
    "    print(\"Absolute value is \",(n))\n"
   ]
  },
  {
   "cell_type": "markdown",
   "id": "5e901d9e",
   "metadata": {},
   "source": [
    "Q6"
   ]
  },
  {
   "cell_type": "code",
   "execution_count": 12,
   "id": "00586cb6",
   "metadata": {},
   "outputs": [
    {
     "name": "stdout",
     "output_type": "stream",
     "text": [
      "Enter a character: d\n",
      "d is a consonant.\n"
     ]
    }
   ],
   "source": [
    "\n",
    "char = input(\"Enter a character: \")\n",
    "char = char.lower()\n",
    "if len(char) == 1:\n",
    "\n",
    "    if char in 'aeiou':\n",
    "        print(f\"{char} is a vowel.\")\n",
    "    else:\n",
    "        print(f\"{char} is a consonant.\")\n",
    "else:\n",
    "    print(\"Please enter a single character.\")\n"
   ]
  },
  {
   "cell_type": "markdown",
   "id": "e6a5f26f",
   "metadata": {},
   "source": [
    "Q7"
   ]
  },
  {
   "cell_type": "code",
   "execution_count": 13,
   "id": "3713a596",
   "metadata": {},
   "outputs": [
    {
     "name": "stdout",
     "output_type": "stream",
     "text": [
      "Enter your age: 55\n",
      "You are eligible to vote.\n"
     ]
    }
   ],
   "source": [
    "\n",
    "age = int(input(\"Enter your age: \"))\n",
    "\n",
    "if age >= 18:\n",
    "    print(\"You are eligible to vote.\")\n",
    "else:\n",
    "    print(\"You are not eligible to vote.\")\n"
   ]
  },
  {
   "cell_type": "markdown",
   "id": "39d01de7",
   "metadata": {},
   "source": [
    "Q8"
   ]
  },
  {
   "cell_type": "code",
   "execution_count": 14,
   "id": "f822eab9",
   "metadata": {},
   "outputs": [
    {
     "name": "stdout",
     "output_type": "stream",
     "text": [
      "Enter the purchase amount: 54\n",
      "Purchase Amount: $54.00\n",
      "Discount Rate: 0.0%\n",
      "Discount Amount: $0.00\n",
      "Final Amount to be Paid: $54.00\n"
     ]
    }
   ],
   "source": [
    "# Input the purchase amount\n",
    "purchase_amount = float(input(\"Enter the purchase amount: \"))\n",
    "\n",
    "# Initialize variables for discount rates\n",
    "discount_rate = 0.0\n",
    "discount_amount = 0.0\n",
    "\n",
    "# Determine the discount based on the purchase amount\n",
    "if purchase_amount >= 1000:\n",
    "    discount_rate = 0.10  # 10% discount for purchases over or equal to $1000\n",
    "elif purchase_amount >= 500:\n",
    "    discount_rate = 0.05  # 5% discount for purchases over or equal to $500\n",
    "\n",
    "# Calculate the discount amount\n",
    "discount_amount = purchase_amount * discount_rate\n",
    "\n",
    "# Calculate the final amount to be paid\n",
    "final_amount = purchase_amount - discount_amount\n",
    "\n",
    "# Display the results\n",
    "print(f\"Purchase Amount: ${purchase_amount:.2f}\")\n",
    "print(f\"Discount Rate: {discount_rate * 100}%\")\n",
    "print(f\"Discount Amount: ${discount_amount:.2f}\")\n",
    "print(f\"Final Amount to be Paid: ${final_amount:.2f}\")\n"
   ]
  },
  {
   "cell_type": "markdown",
   "id": "3170a83d",
   "metadata": {},
   "source": [
    "Q9"
   ]
  },
  {
   "cell_type": "code",
   "execution_count": 18,
   "id": "b5c06557",
   "metadata": {},
   "outputs": [
    {
     "name": "stdout",
     "output_type": "stream",
     "text": [
      "Enter a number: 1\n",
      "1is not within the range [10, 50].\n"
     ]
    }
   ],
   "source": [
    "lower_limit = 10\n",
    "upper_limit = 50\n",
    "number = int(input(\"Enter a number: \"))\n",
    "if number >= lower_limit and number <= upper_limit:\n",
    "    print(f\"{number} is within the range [{lower_limit}, {upper_limit}].\")\n",
    "else:\n",
    "    print(f\"{number} is not within the range [{lower_limit}, {upper_limit}].\")\n"
   ]
  },
  {
   "cell_type": "markdown",
   "id": "54675b0a",
   "metadata": {},
   "source": [
    "Q10"
   ]
  },
  {
   "cell_type": "code",
   "execution_count": 19,
   "id": "71cc992c",
   "metadata": {},
   "outputs": [
    {
     "name": "stdout",
     "output_type": "stream",
     "text": [
      "Enter the student's score: 33\n",
      "The student's score is 33.0 and the grade is F.\n"
     ]
    }
   ],
   "source": [
    "# Input the student's score\n",
    "score = float(input(\"Enter the student's score: \"))\n",
    "\n",
    "# Determine the grade based on the score\n",
    "if score >= 90:\n",
    "    grade = \"A\"\n",
    "elif score >= 80:\n",
    "    grade = \"B\"\n",
    "elif score >= 70:\n",
    "    grade = \"C\"\n",
    "elif score >= 60:\n",
    "    grade = \"D\"\n",
    "else:\n",
    "    grade = \"F\"\n",
    "\n",
    "# Display the grade\n",
    "print(f\"The student's score is {score} and the grade is {grade}.\")\n"
   ]
  },
  {
   "cell_type": "markdown",
   "id": "27957bcf",
   "metadata": {},
   "source": [
    "Q11"
   ]
  },
  {
   "cell_type": "code",
   "execution_count": 21,
   "id": "fca93b21",
   "metadata": {},
   "outputs": [
    {
     "name": "stdout",
     "output_type": "stream",
     "text": [
      "Enter a string sfsf\n",
      "string is not empty\n"
     ]
    }
   ],
   "source": [
    "s = input(\"Enter a string \")\n",
    "if len(s)==0:\n",
    "    print(\"string is empty\")\n",
    "else:\n",
    "    print(\"string is not empty\")"
   ]
  },
  {
   "cell_type": "markdown",
   "id": "eec73f49",
   "metadata": {},
   "source": [
    "Q12"
   ]
  },
  {
   "cell_type": "code",
   "execution_count": 22,
   "id": "8eaf7571",
   "metadata": {},
   "outputs": [
    {
     "name": "stdout",
     "output_type": "stream",
     "text": [
      "Enter the length of the first side: 24\n",
      "Enter the length of the second side: 6\n",
      "Enter the length of the third side: 7\n",
      "The triangle with side lengths 24.0, 6.0, and 7.0 is a Scalene triangle.\n"
     ]
    }
   ],
   "source": [
    "side1 = float(input(\"Enter the length of the first side: \"))\n",
    "side2 = float(input(\"Enter the length of the second side: \"))\n",
    "side3 = float(input(\"Enter the length of the third side: \"))\n",
    "\n",
    "if side1 == side2 == side3:\n",
    "    triangle_type = \"Equilateral\"\n",
    "elif side1 == side2 or side1 == side3 or side2 == side3:\n",
    "    triangle_type = \"Isosceles\"\n",
    "else:\n",
    "    triangle_type = \"Scalene\"\n",
    "\n",
    "print(f\"The triangle with side lengths {side1}, {side2}, and {side3} is a {triangle_type} triangle.\")\n"
   ]
  },
  {
   "cell_type": "markdown",
   "id": "e575fa51",
   "metadata": {},
   "source": [
    "Q13"
   ]
  },
  {
   "cell_type": "code",
   "execution_count": 23,
   "id": "e5f210ba",
   "metadata": {},
   "outputs": [
    {
     "name": "stdout",
     "output_type": "stream",
     "text": [
      "Enter a number (1-7) to determine the day of the week: 2\n",
      "The day corresponding to the number 2 is Tuesday.\n"
     ]
    }
   ],
   "source": [
    "day_number = int(input(\"Enter a number (1-7) to determine the day of the week: \"))\n",
    "\n",
    "if day_number == 1:\n",
    "    day_name = \"Monday\"\n",
    "elif day_number == 2:\n",
    "    day_name = \"Tuesday\"\n",
    "elif day_number == 3:\n",
    "    day_name = \"Wednesday\"\n",
    "elif day_number == 4:\n",
    "    day_name = \"Thursday\"\n",
    "elif day_number == 5:\n",
    "    day_name = \"Friday\"\n",
    "elif day_number == 6:\n",
    "    day_name = \"Saturday\"\n",
    "elif day_number == 7:\n",
    "    day_name = \"Sunday\"\n",
    "else:\n",
    "    day_name = \"Invalid input\"\n",
    "\n",
    "print(f\"The day corresponding to the number {day_number} is {day_name}.\")\n"
   ]
  },
  {
   "cell_type": "markdown",
   "id": "c953fa59",
   "metadata": {},
   "source": [
    "Q14"
   ]
  },
  {
   "cell_type": "code",
   "execution_count": 24,
   "id": "e4e80357",
   "metadata": {},
   "outputs": [
    {
     "name": "stdout",
     "output_type": "stream",
     "text": [
      "Enter a year: 3333\n",
      "3333 is not a leap year.\n"
     ]
    }
   ],
   "source": [
    "def is_leap_year(year):\n",
    "    if (year % 4 == 0 and year % 100 != 0) or (year % 400 == 0):\n",
    "        return True\n",
    "    else:\n",
    "        return False\n",
    "\n",
    "year = int(input(\"Enter a year: \"))\n",
    "\n",
    "\n",
    "if is_leap_year(year):\n",
    "    print(f\"{year} is a leap year.\")\n",
    "else:\n",
    "    print(f\"{year} is not a leap year.\")\n"
   ]
  },
  {
   "cell_type": "markdown",
   "id": "25e426be",
   "metadata": {},
   "source": [
    "Q19"
   ]
  },
  {
   "cell_type": "code",
   "execution_count": 47,
   "id": "783a03a7",
   "metadata": {},
   "outputs": [
    {
     "name": "stdout",
     "output_type": "stream",
     "text": [
      "Enter a year 3000\n",
      "Year is century year\n"
     ]
    }
   ],
   "source": [
    "year = int(input(\"Enter a year \"))\n",
    "if(year%100==0):\n",
    "    print(\"Year is century year\")\n",
    "else:\n",
    "    print(\"Year is not century year\")"
   ]
  },
  {
   "cell_type": "markdown",
   "id": "afb5f795",
   "metadata": {},
   "source": [
    "Q20"
   ]
  },
  {
   "cell_type": "code",
   "execution_count": 50,
   "id": "e1e134ea",
   "metadata": {},
   "outputs": [
    {
     "name": "stdout",
     "output_type": "stream",
     "text": [
      "Enter a number: 64\n",
      "64 is a perfect square.\n"
     ]
    }
   ],
   "source": [
    "def is_perfect_square(number):\n",
    "    # Check if the square root of the number is an integer\n",
    "    square_root = number ** 0.5\n",
    "    if square_root.is_integer():\n",
    "        return True\n",
    "    else:\n",
    "        return False\n",
    "\n",
    "# Input a number to check\n",
    "number_to_check = int(input(\"Enter a number: \"))\n",
    "\n",
    "if is_perfect_square(number_to_check):\n",
    "    print(f\"{number_to_check} is a perfect square.\")\n",
    "else:\n",
    "    print(f\"{number_to_check} is not a perfect square.\")\n"
   ]
  },
  {
   "cell_type": "markdown",
   "id": "ec974312",
   "metadata": {},
   "source": [
    "Q21"
   ]
  },
  {
   "cell_type": "code",
   "execution_count": 1,
   "id": "7dcb339c",
   "metadata": {},
   "outputs": [
    {
     "name": "stdout",
     "output_type": "stream",
     "text": [
      "1\n",
      "2\n",
      "4\n",
      "5\n",
      "1\n",
      "2\n"
     ]
    }
   ],
   "source": [
    "\"\"\"\"continue\" statement:\n",
    "\n",
    "The \"continue\" statement is used to skip the current iteration of a loop and proceed to the next iteration.\n",
    "It is typically used when you want to skip some specific iterations based on a condition without exiting the entire loop.\n",
    "When a \"continue\" statement is encountered, the loop will jump to the next iteration and reevaluate the loop's condition.\n",
    "Example:\"\"\"\n",
    "for i in range(1, 6):\n",
    "    if i == 3:\n",
    "        continue  # Skip the current iteration when i is 3\n",
    "    print(i)\n",
    "\"\"\"\"break\" statement:\n",
    "\n",
    "The \"break\" statement is used to exit a loop prematurely, regardless of whether the loop condition is met or not.\n",
    "It is often used when a specific condition is satisfied, and you want to terminate the loop immediately.\n",
    "When a \"break\" statement is encountered, the loop is exited, and the program continues with the code following the loop.\n",
    "Example:\"\"\"\n",
    "for i in range(1, 6):\n",
    "    if i == 3:\n",
    "        break  # Exit the loop when i is 3\n",
    "    print(i)\n"
   ]
  },
  {
   "cell_type": "markdown",
   "id": "ff703c5c",
   "metadata": {},
   "source": [
    "Q22"
   ]
  },
  {
   "cell_type": "code",
   "execution_count": null,
   "id": "c51b0697",
   "metadata": {},
   "outputs": [],
   "source": [
    "# Input the person's weight in kilograms and height in meters\n",
    "weight = float(input(\"Enter your weight in kilograms: \"))\n",
    "height = float(input(\"Enter your height in meters: \"))\n",
    "\n",
    "# Calculate BMI\n",
    "bmi = weight / (height ** 2)\n",
    "\n",
    "# Determine BMI category\n",
    "if bmi < 18.5:\n",
    "    category = \"Underweight\"\n",
    "elif 18.5 <= bmi < 24.9:\n",
    "    category = \"Normal Weight\"\n",
    "elif 25 <= bmi < 29.9:\n",
    "    category = \"Overweight\"\n",
    "else:\n",
    "    category = \"Obese\"\n",
    "\n",
    "# Display the BMI and category\n",
    "print(f\"Your BMI is: {bmi:.2f}\")\n",
    "print(f\"You are categorized as: {category}\")\n"
   ]
  },
  {
   "cell_type": "markdown",
   "id": "2a24a063",
   "metadata": {},
   "source": [
    "Q23"
   ]
  },
  {
   "cell_type": "code",
   "execution_count": 6,
   "id": "0a445932",
   "metadata": {},
   "outputs": [
    {
     "name": "stdout",
     "output_type": "stream",
     "text": [
      "Even numbers: [2, 4, 6, 8]\n"
     ]
    }
   ],
   "source": [
    "# Define a filtering function that returns True for even numbers\n",
    "def is_even(number):\n",
    "    if number % 2 == 0:\n",
    "        return True\n",
    "    else:\n",
    "        return False\n",
    "\n",
    "# Define a list of numbers\n",
    "numbers = [1, 2, 3, 4, 5, 6, 7, 8, 9]\n",
    "\n",
    "# Use filter() to filter even numbers\n",
    "filtered_numbers = filter(is_even, numbers)\n",
    "\n",
    "# Convert the filtered iterable to a list\n",
    "even_numbers = list(filtered_numbers)\n",
    "\n",
    "print(\"Even numbers:\", even_numbers)\n"
   ]
  },
  {
   "cell_type": "markdown",
   "id": "28bca75a",
   "metadata": {},
   "source": [
    "Q24"
   ]
  },
  {
   "cell_type": "code",
   "execution_count": 7,
   "id": "133afb9b",
   "metadata": {},
   "outputs": [
    {
     "name": "stdout",
     "output_type": "stream",
     "text": [
      "Enter a number: 5\n",
      "5 is a prime number.\n"
     ]
    }
   ],
   "source": [
    "# Input a number to check for primality\n",
    "number = int(input(\"Enter a number: \"))\n",
    "\n",
    "# Check if the number is less than 2 (not a prime number)\n",
    "if number < 2:\n",
    "    is_prime = False\n",
    "else:\n",
    "    # Check for factors from 2 to the square root of the number\n",
    "    is_prime = True\n",
    "    for i in range(2, int(number**0.5) + 1):\n",
    "        if number % i == 0:\n",
    "            is_prime = False\n",
    "            break\n",
    "\n",
    "# Display the result\n",
    "if is_prime:\n",
    "    print(f\"{number} is a prime number.\")\n",
    "else:\n",
    "    print(f\"{number} is not a prime number.\")\n"
   ]
  },
  {
   "cell_type": "markdown",
   "id": "6a2ffac0",
   "metadata": {},
   "source": [
    "# MAP"
   ]
  },
  {
   "cell_type": "markdown",
   "id": "ad940ee0",
   "metadata": {},
   "source": [
    "Q1"
   ]
  },
  {
   "cell_type": "code",
   "execution_count": 30,
   "id": "893b4c5c",
   "metadata": {},
   "outputs": [
    {
     "data": {
      "text/plain": [
       "'\"The map() function in Python is used to apply a\\ngiven function to each element of an iterable (such as a list, tuple, or string) and \\nreturns a new iterable containing the results. It essentially applies the provided function to every \\nitem in the input iterable and collects the results in a new iterable.'"
      ]
     },
     "execution_count": 30,
     "metadata": {},
     "output_type": "execute_result"
    }
   ],
   "source": [
    "\"\"\"\"The map() function in Python is used to apply a\n",
    "given function to each element of an iterable (such as a list, tuple, or string) and \n",
    "returns a new iterable containing the results. It essentially applies the provided function to every \n",
    "item in the input iterable and collects the results in a new iterable.\"\"\""
   ]
  },
  {
   "cell_type": "markdown",
   "id": "c44c1ead",
   "metadata": {},
   "source": [
    "Q2"
   ]
  },
  {
   "cell_type": "code",
   "execution_count": 31,
   "id": "3e0198a1",
   "metadata": {},
   "outputs": [
    {
     "name": "stdout",
     "output_type": "stream",
     "text": [
      "[4, 16, 49, 64]\n"
     ]
    }
   ],
   "source": [
    "def square(a):\n",
    "    return a*a\n",
    "l = [2,4,7,8]\n",
    "print(list(map(square,l)))"
   ]
  },
  {
   "cell_type": "markdown",
   "id": "04d669ee",
   "metadata": {},
   "source": [
    "Q3"
   ]
  },
  {
   "cell_type": "code",
   "execution_count": 33,
   "id": "6ceb6f0f",
   "metadata": {},
   "outputs": [
    {
     "data": {
      "text/plain": [
       "', you would choose between map() and list \\ncomprehensions based on your specific requirements and the complexity of the task at hand.\\nIf you need to apply a simple operation to each element of a single iterable, list comprehensions are \\noften preferred for their readability. \\nIf you need more flexibility or have multiple iterables to work with, map() may be a better choice.. Ultimately, the choice between the two comes down to readability, \\nsimplicity, and specific use cases.'"
      ]
     },
     "execution_count": 33,
     "metadata": {},
     "output_type": "execute_result"
    }
   ],
   "source": [
    "\"\"\", you would choose between map() and list \n",
    "comprehensions based on your specific requirements and the complexity of the task at hand.\n",
    "If you need to apply a simple operation to each element of a single iterable, list comprehensions are \n",
    "often preferred for their readability. \n",
    "If you need more flexibility or have multiple iterables to work with, map() may be a better choice.. Ultimately, the choice between the two comes down to readability, \n",
    "simplicity, and specific use cases.\"\"\""
   ]
  },
  {
   "cell_type": "markdown",
   "id": "d9466f29",
   "metadata": {},
   "source": [
    "Q4"
   ]
  },
  {
   "cell_type": "code",
   "execution_count": 36,
   "id": "e0d38158",
   "metadata": {},
   "outputs": [
    {
     "name": "stdout",
     "output_type": "stream",
     "text": [
      "['kunal', 'nishant', 'love', 'babbar']\n"
     ]
    }
   ],
   "source": [
    "l = [\"KUNAL\",\"NISHANT\",\"LOVE\",\"BABBAR\"]\n",
    "def f1(a):\n",
    "    return a.lower()\n",
    "print(list(map(f1,l)))"
   ]
  },
  {
   "cell_type": "markdown",
   "id": "bae4c2aa",
   "metadata": {},
   "source": [
    "Q5"
   ]
  },
  {
   "cell_type": "code",
   "execution_count": 38,
   "id": "46bb8d06",
   "metadata": {},
   "outputs": [
    {
     "name": "stdout",
     "output_type": "stream",
     "text": [
      "[5, 5, 4, 3, 3]\n"
     ]
    }
   ],
   "source": [
    "l = [\"hello\",\"there\",\"how \",\"are\",\"you\"]\n",
    "print(list(map(lambda i:len(i),l)))"
   ]
  },
  {
   "cell_type": "markdown",
   "id": "c9ce08e2",
   "metadata": {},
   "source": [
    "Q6"
   ]
  },
  {
   "cell_type": "code",
   "execution_count": 40,
   "id": "ec091b2b",
   "metadata": {},
   "outputs": [
    {
     "name": "stdout",
     "output_type": "stream",
     "text": [
      "[6, 8, 10, 12]\n"
     ]
    }
   ],
   "source": [
    "list1 = [1, 2, 3,4]\n",
    "list2 = [5, 6, 7, 8]\n",
    "\n",
    "def add_lists(x, y):\n",
    "    return x + y\n",
    "\n",
    "result = list(map(add_lists, list1, list2))\n",
    "\n",
    "print(result)\n"
   ]
  },
  {
   "cell_type": "markdown",
   "id": "ee8a81c4",
   "metadata": {},
   "source": [
    "Q7"
   ]
  },
  {
   "cell_type": "code",
   "execution_count": 41,
   "id": "b9439b24",
   "metadata": {},
   "outputs": [
    {
     "name": "stdout",
     "output_type": "stream",
     "text": [
      "[37.4, 69.8, 131.0, 152.6]\n"
     ]
    }
   ],
   "source": [
    "celcius = [3,21,55,67]\n",
    "def far(a):\n",
    "    x = (a*9/5) + 32\n",
    "    return x\n",
    "print(list(map(far,celcius)))"
   ]
  },
  {
   "cell_type": "markdown",
   "id": "efd13099",
   "metadata": {},
   "source": [
    "Q8"
   ]
  },
  {
   "cell_type": "code",
   "execution_count": 8,
   "id": "fea97e09",
   "metadata": {},
   "outputs": [
    {
     "name": "stdout",
     "output_type": "stream",
     "text": [
      "[3, 3, 1, 5, 5]\n"
     ]
    }
   ],
   "source": [
    "l = [3.14, 2.718, 1.414, 4.999, 5.25]\n",
    "print(list(map(round,l)))"
   ]
  },
  {
   "cell_type": "markdown",
   "id": "7d6c2a56",
   "metadata": {},
   "source": [
    "# FILTER"
   ]
  },
  {
   "cell_type": "markdown",
   "id": "593199d1",
   "metadata": {},
   "source": [
    "Q1"
   ]
  },
  {
   "cell_type": "code",
   "execution_count": null,
   "id": "fc691f1a",
   "metadata": {},
   "outputs": [],
   "source": [
    "\"\"\"The filter() function in Python is used to filter elements from an iterable (e.g., a list, tuple, or any iterable) based on\n",
    "a specified condition. It creates a new iterable that includes only the elements for which the provided \n",
    "condition is True. Essentially,\n",
    "it allows you to select or keep elements that satisfy a particular criterion.\"\"\"\n",
    "\n",
    "numbers = [1, 2, 3, 4, 5, 6, 7, 8, 9, 10]\n",
    "\n",
    "def is_even(x):\n",
    "    return x % 2 == 0\n",
    "\n",
    "even_numbers = list(filter(is_even, numbers))\n",
    "\n",
    "print(\"Original numbers:\", numbers)\n",
    "print(\"Even numbers:\", even_numbers)\n"
   ]
  },
  {
   "cell_type": "markdown",
   "id": "32461dee",
   "metadata": {},
   "source": [
    "Q2"
   ]
  },
  {
   "cell_type": "code",
   "execution_count": 9,
   "id": "01c9b03f",
   "metadata": {},
   "outputs": [
    {
     "name": "stdout",
     "output_type": "stream",
     "text": [
      "[2, 4, 6, 90, 66, 34]\n"
     ]
    }
   ],
   "source": [
    "l =[2,4,6,79,90,66,43,34]\n",
    "print(list(filter(lambda a:a%2==0,l)))"
   ]
  },
  {
   "cell_type": "markdown",
   "id": "a290fd9d",
   "metadata": {},
   "source": [
    "Q3"
   ]
  },
  {
   "cell_type": "code",
   "execution_count": 10,
   "id": "a36a6a16",
   "metadata": {},
   "outputs": [
    {
     "name": "stdout",
     "output_type": "stream",
     "text": [
      "['hello', 'how']\n"
     ]
    }
   ],
   "source": [
    "l = [\"hello\",\"how\",\"are\",\"you\"]\n",
    "print(list(filter(lambda a:a[0]=='h',l)))"
   ]
  },
  {
   "cell_type": "markdown",
   "id": "4dab2547",
   "metadata": {},
   "source": [
    "Q4\n"
   ]
  },
  {
   "cell_type": "code",
   "execution_count": 12,
   "id": "7d7d9570",
   "metadata": {},
   "outputs": [
    {
     "name": "stdout",
     "output_type": "stream",
     "text": [
      "Original numbers: [2, 3, 4, 5, 6, 7, 8, 9, 10, 11, 12, 13]\n",
      "Prime numbers: [2, 3, 5, 7, 11, 13]\n"
     ]
    }
   ],
   "source": [
    "# Define a function to check if a number is prime\n",
    "def is_prime(num):\n",
    "    if num <= 1:\n",
    "        return False\n",
    "    if num <= 3:\n",
    "        return True\n",
    "\n",
    "    i = 2\n",
    "    while i  < num:\n",
    "        if num % i == 0:\n",
    "            return False\n",
    "        i = i+1\n",
    "    return True\n",
    "\n",
    "# Define a list of integers\n",
    "numbers = [2, 3, 4, 5, 6, 7, 8, 9, 10, 11, 12, 13]\n",
    "\n",
    "# Use filter() to select prime numbers from the list\n",
    "prime_numbers = list(filter(is_prime, numbers))\n",
    "\n",
    "# Print the prime numbers\n",
    "print(\"Original numbers:\", numbers)\n",
    "print(\"Prime numbers:\", prime_numbers)"
   ]
  },
  {
   "cell_type": "markdown",
   "id": "8b28e0fc",
   "metadata": {},
   "source": [
    "Q5"
   ]
  },
  {
   "cell_type": "code",
   "execution_count": 13,
   "id": "786608db",
   "metadata": {},
   "outputs": [
    {
     "name": "stdout",
     "output_type": "stream",
     "text": [
      "Original values: [1, 2, None, 3, None, 4, 5, None]\n",
      "Filtered values: [1, 2, 3, 4, 5]\n"
     ]
    }
   ],
   "source": [
    "# Define a list with some None values\n",
    "values = [1, 2, None, 3, None, 4, 5, None]\n",
    "\n",
    "# Use filter() to remove None values\n",
    "filtered_values = list(filter(lambda x: x is not None, values))\n",
    "\n",
    "# Print the filtered values\n",
    "print(\"Original values:\", values)\n",
    "print(\"Filtered values:\", filtered_values)"
   ]
  },
  {
   "cell_type": "markdown",
   "id": "8779d3bf",
   "metadata": {},
   "source": [
    "Q6"
   ]
  },
  {
   "cell_type": "code",
   "execution_count": 14,
   "id": "34e080cd",
   "metadata": {},
   "outputs": [
    {
     "name": "stdout",
     "output_type": "stream",
     "text": [
      "['hello', 'pwskills', 'how are']\n"
     ]
    }
   ],
   "source": [
    "l = [\"hello\",\"pwskills\",\"how are\",\"you\",\"btw\"]\n",
    "print(list(filter(lambda a:len(a)>3,l)))"
   ]
  },
  {
   "cell_type": "markdown",
   "id": "53cdc931",
   "metadata": {},
   "source": [
    "Q7"
   ]
  },
  {
   "cell_type": "code",
   "execution_count": 15,
   "id": "e8d45c8a",
   "metadata": {},
   "outputs": [
    {
     "name": "stdout",
     "output_type": "stream",
     "text": [
      "[21, 44, 60, 55]\n"
     ]
    }
   ],
   "source": [
    "l = [21,12,44,10,20,9,4,60,55]\n",
    "print(list(filter(lambda a:a>20,l)))"
   ]
  },
  {
   "cell_type": "markdown",
   "id": "ac303910",
   "metadata": {},
   "source": [
    "# Recursion"
   ]
  },
  {
   "cell_type": "markdown",
   "id": "63e08ac9",
   "metadata": {},
   "source": [
    "Q1"
   ]
  },
  {
   "cell_type": "code",
   "execution_count": 16,
   "id": "e7bab4d0",
   "metadata": {},
   "outputs": [
    {
     "data": {
      "text/plain": [
       "\"Recursion in Python is a programming technique in which a function calls itself in order to solve a\\nproblem. It's a way of breaking down complex problems into simpler, \\nself-similar sub-problems and solving them. In recursive functions, there are two main parts:\\n\\nBase Case: A condition that defines when the recursion should stop. It provides a result without making\\na recursive call. Without a base case, the recursion would continue indefinitely, leading to a stack \\noverflow.\\n\\nRecursive Case: The part of the function where it calls itself to solve a smaller or simpler version \\nof the same problem. The goal is to move towards the base case with each recursive call.\""
      ]
     },
     "execution_count": 16,
     "metadata": {},
     "output_type": "execute_result"
    }
   ],
   "source": [
    "\"\"\"Recursion in Python is a programming technique in which a function calls itself in order to solve a\n",
    "problem. It's a way of breaking down complex problems into simpler, \n",
    "self-similar sub-problems and solving them. In recursive functions, there are two main parts:\n",
    "\n",
    "Base Case: A condition that defines when the recursion should stop. It provides a result without making\n",
    "a recursive call. Without a base case, the recursion would continue indefinitely, leading to a stack \n",
    "overflow.\n",
    "\n",
    "Recursive Case: The part of the function where it calls itself to solve a smaller or simpler version \n",
    "of the same problem. The goal is to move towards the base case with each recursive call.\"\"\""
   ]
  },
  {
   "cell_type": "markdown",
   "id": "7fb4bc5f",
   "metadata": {},
   "source": [
    "Q2"
   ]
  },
  {
   "cell_type": "code",
   "execution_count": 1,
   "id": "e62151fc",
   "metadata": {},
   "outputs": [
    {
     "name": "stdout",
     "output_type": "stream",
     "text": [
      "enter a number 3\n",
      "6\n"
     ]
    }
   ],
   "source": [
    "def f1(a):\n",
    "    if(a==1):\n",
    "        return 1\n",
    "    else:\n",
    "        return a *f1(a-1)\n",
    "n = int(input(\"enter a number \"))\n",
    "res = f1(n)\n",
    "print(res)"
   ]
  },
  {
   "cell_type": "markdown",
   "id": "bef3cc6d",
   "metadata": {},
   "source": [
    "Q3"
   ]
  },
  {
   "cell_type": "code",
   "execution_count": 3,
   "id": "3559f266",
   "metadata": {},
   "outputs": [
    {
     "name": "stdout",
     "output_type": "stream",
     "text": [
      "Enter the value of n: 10\n",
      "The 10-th Fibonacci number is 55\n"
     ]
    }
   ],
   "source": [
    "def fibonacci(n):\n",
    "    if n <= 0:\n",
    "        return 0\n",
    "    elif n == 1:\n",
    "        return 1\n",
    "    else:\n",
    "        return fibonacci(n - 1) + fibonacci(n - 2)\n",
    "\n",
    "# Input the value of n\n",
    "n = int(input(\"Enter the value of n: \"))\n",
    "\n",
    "if n < 0:\n",
    "    print(\"Fibonacci sequence is not defined for negative values of n.\")\n",
    "else:\n",
    "    fib_n = fibonacci(n)\n",
    "    print(f\"The {n}-th Fibonacci number is {fib_n}\")\n"
   ]
  },
  {
   "cell_type": "code",
   "execution_count": 8,
   "id": "b15f19c8",
   "metadata": {},
   "outputs": [
    {
     "name": "stdout",
     "output_type": "stream",
     "text": [
      "0\n",
      "1\n",
      "1\n",
      "2\n",
      "3\n",
      "5\n",
      "8\n",
      "13\n",
      "21\n",
      "34\n"
     ]
    }
   ],
   "source": [
    "a = 0\n",
    "b  = 1\n",
    "for i in range(1,11):\n",
    "    print(a)\n",
    "    temp = a\n",
    "    a = b \n",
    "    b = temp + a\n",
    "    \n",
    "   \n"
   ]
  },
  {
   "cell_type": "markdown",
   "id": "8916e4ea",
   "metadata": {},
   "source": [
    "Q4"
   ]
  },
  {
   "cell_type": "code",
   "execution_count": 10,
   "id": "7a44ff91",
   "metadata": {},
   "outputs": [
    {
     "name": "stdout",
     "output_type": "stream",
     "text": [
      "13\n"
     ]
    }
   ],
   "source": [
    "l = [1,2,4,6]\n",
    "def f1(l):\n",
    "    if len(l)==0:\n",
    "        return 0\n",
    "    else:\n",
    "        return l[0] + f1(l[1:])\n",
    "x =f1(l)\n",
    "print(x)"
   ]
  },
  {
   "cell_type": "markdown",
   "id": "74ebe2c1",
   "metadata": {},
   "source": [
    "Q5"
   ]
  },
  {
   "cell_type": "code",
   "execution_count": 11,
   "id": "d1bb6da0",
   "metadata": {},
   "outputs": [
    {
     "data": {
      "text/plain": [
       "'Base Case: Ensure that your recursive function has a well-defined base case. \\nThe base case specifies when the recursion should stop. \\nWithout a base case, the function will keep calling itself infinitely'"
      ]
     },
     "execution_count": 11,
     "metadata": {},
     "output_type": "execute_result"
    }
   ],
   "source": [
    "\"\"\"Base Case: Ensure that your recursive function has a well-defined base case. \n",
    "The base case specifies when the recursion should stop. \n",
    "Without a base case, the function will keep calling itself infinitely\"\"\""
   ]
  },
  {
   "cell_type": "markdown",
   "id": "c2a3a02e",
   "metadata": {},
   "source": [
    "Q6"
   ]
  },
  {
   "cell_type": "code",
   "execution_count": 22,
   "id": "ba8cc12c",
   "metadata": {},
   "outputs": [
    {
     "name": "stdout",
     "output_type": "stream",
     "text": [
      "The reversed string of 'hello' is 'olleh'\n"
     ]
    }
   ],
   "source": [
    "def reverse_string(input_str):\n",
    "\n",
    "    if len(input_str) <= 1:\n",
    "        return input_str\n",
    "    else:\n",
    "        return reverse_string(input_str[1:]) + input_str[0]\n",
    "\n",
    "original_str = \"hello\"\n",
    "reversed_str = reverse_string(original_str)\n",
    "print(f\"The reversed string of '{original_str}' is '{reversed_str}'\")\n",
    "\n",
    "        "
   ]
  },
  {
   "cell_type": "markdown",
   "id": "7579fe5f",
   "metadata": {},
   "source": [
    "Q7\n"
   ]
  },
  {
   "cell_type": "code",
   "execution_count": 23,
   "id": "ca8aa3b9",
   "metadata": {},
   "outputs": [
    {
     "name": "stdout",
     "output_type": "stream",
     "text": [
      "The reversed string of 'hello' is 'olleh'\n"
     ]
    }
   ],
   "source": [
    "def reverse_string(input_str):\n",
    "    # Base case: if the string is empty or has only one character, it is already reversed\n",
    "    if len(input_str) <= 1:\n",
    "        return input_str\n",
    "    else:\n",
    "        # Recursive case: reverse the string excluding the first character\n",
    "        # and then append the first character to the end\n",
    "        return reverse_string(input_str[1:]) + input_str[0]\n",
    "\n",
    "# Example usage:\n",
    "original_str = \"hello\"\n",
    "reversed_str = reverse_string(original_str)\n",
    "print(f\"The reversed string of '{original_str}' is '{reversed_str}'\")\n"
   ]
  },
  {
   "cell_type": "markdown",
   "id": "a2ecfad2",
   "metadata": {},
   "source": [
    "# Basics of Functions:\n"
   ]
  },
  {
   "cell_type": "markdown",
   "id": "d5d8b47c",
   "metadata": {},
   "source": [
    "Q1"
   ]
  },
  {
   "cell_type": "code",
   "execution_count": 24,
   "id": "e8807428",
   "metadata": {},
   "outputs": [
    {
     "data": {
      "text/plain": [
       "'\\nA function in Python is a reusable block of code that performs a specific task.\\nIt promotes code modularity, reusability, and abstraction by allowing you to encapsulate and\\norganize logic. Functions make code more \\nreadable, maintainable, and testable, and they enable parameterization for customization.'"
      ]
     },
     "execution_count": 24,
     "metadata": {},
     "output_type": "execute_result"
    }
   ],
   "source": [
    "\"\"\"\n",
    "A function in Python is a reusable block of code that performs a specific task.\n",
    "It promotes code modularity, reusability, and abstraction by allowing you to encapsulate and\n",
    "organize logic. Functions make code more \n",
    "readable, maintainable, and testable, and they enable parameterization for customization.\"\"\""
   ]
  },
  {
   "cell_type": "markdown",
   "id": "492e1eb5",
   "metadata": {},
   "source": [
    "Q2"
   ]
  },
  {
   "cell_type": "code",
   "execution_count": 25,
   "id": "75573065",
   "metadata": {},
   "outputs": [
    {
     "name": "stdout",
     "output_type": "stream",
     "text": [
      "Hello, Alice!\n"
     ]
    }
   ],
   "source": [
    "\"\"\"In Python, you define a function using the def keyword followed by the function name, \n",
    "a list of parameters enclosed in parentheses, and a colon. The function's code block is indented and\n",
    "contains the tasks it performs. \n",
    "Here's an example of defining a function and calling it:\"\"\"\n",
    "def greet(name):\n",
    "    \"\"\"This function greets the person passed in as a parameter.\"\"\"\n",
    "    print(f\"Hello, {name}!\")\n",
    "\n",
    "# Calling the function\n",
    "greet(\"Alice\")\n"
   ]
  },
  {
   "cell_type": "markdown",
   "id": "edade11f",
   "metadata": {},
   "source": [
    "Q3"
   ]
  },
  {
   "cell_type": "code",
   "execution_count": 27,
   "id": "b838bd51",
   "metadata": {},
   "outputs": [
    {
     "data": {
      "text/plain": [
       "'a function definition establishes what a function does and how it operates, \\nwhile a function call uses that definition to execute the function with specific arguments,\\ntriggering the desired behavior. \\nThe definition sets up the function, and the call activates it'"
      ]
     },
     "execution_count": 27,
     "metadata": {},
     "output_type": "execute_result"
    }
   ],
   "source": [
    "\"\"\"a function definition establishes what a function does and how it operates, \n",
    "while a function call uses that definition to execute the function with specific arguments,\n",
    "triggering the desired behavior. \n",
    "The definition sets up the function, and the call activates it\"\"\""
   ]
  },
  {
   "cell_type": "markdown",
   "id": "a9eafffc",
   "metadata": {},
   "source": [
    "Q4"
   ]
  },
  {
   "cell_type": "code",
   "execution_count": 28,
   "id": "aacf4e8f",
   "metadata": {},
   "outputs": [
    {
     "name": "stdout",
     "output_type": "stream",
     "text": [
      "7\n"
     ]
    }
   ],
   "source": [
    "def sum_fun(a,b):\n",
    "    return a+b\n",
    "x = sum_fun(3,4)\n",
    "print(x)"
   ]
  },
  {
   "cell_type": "markdown",
   "id": "a8e238a6",
   "metadata": {},
   "source": [
    "Q5"
   ]
  },
  {
   "cell_type": "code",
   "execution_count": null,
   "id": "d03d9842",
   "metadata": {},
   "outputs": [],
   "source": [
    "\"\"\"A function signature, also known as a function prototype,\n",
    "defines the interface of a function in a programming language. \n",
    "It specifies the key information that allows you to use the function correctly without needing to know its\n",
    "implementation details. The information typically included in a function signature varies \n",
    "slightly depending on the programming language\"\"\""
   ]
  },
  {
   "cell_type": "markdown",
   "id": "5b8034a1",
   "metadata": {},
   "source": [
    "Q6"
   ]
  },
  {
   "cell_type": "code",
   "execution_count": 31,
   "id": "c3493ddb",
   "metadata": {},
   "outputs": [
    {
     "name": "stdout",
     "output_type": "stream",
     "text": [
      "8\n"
     ]
    }
   ],
   "source": [
    "def fun(a,b):\n",
    "    return a*b\n",
    "print(fun(4,2))"
   ]
  },
  {
   "cell_type": "markdown",
   "id": "67215dec",
   "metadata": {},
   "source": [
    "# REDUCE"
   ]
  },
  {
   "cell_type": "markdown",
   "id": "1693f5a5",
   "metadata": {},
   "source": [
    "Q1"
   ]
  },
  {
   "cell_type": "code",
   "execution_count": 1,
   "id": "267f4d0a",
   "metadata": {},
   "outputs": [
    {
     "name": "stdout",
     "output_type": "stream",
     "text": [
      "Result: 15\n"
     ]
    }
   ],
   "source": [
    "\"\"\"In simple terms, the reduce() function in Python is used to perform a repetitive operation on a \n",
    "sequence of items (like a list) and accumulate them into a single result. It starts with the first two \n",
    "items, applies a function to them, then takes the result\n",
    "and the next item, applies the function again, and continues until all items have been processed.\"\"\"\n",
    "from functools import reduce\n",
    "numbers = [1, 2, 3, 4, 5]\n",
    "def add(x, y):\n",
    "    return x + y\n",
    "\n",
    "result = reduce(add, numbers)\n",
    "\n",
    "print(\"Result:\", result)\n"
   ]
  },
  {
   "cell_type": "markdown",
   "id": "d991860c",
   "metadata": {},
   "source": [
    "Q2"
   ]
  },
  {
   "cell_type": "code",
   "execution_count": 5,
   "id": "10260e9d",
   "metadata": {},
   "outputs": [
    {
     "name": "stdout",
     "output_type": "stream",
     "text": [
      "48\n"
     ]
    }
   ],
   "source": [
    "l = [1,2,4,3,2]\n",
    "res = reduce(lambda a,b : a*b,l)\n",
    "print(res)"
   ]
  },
  {
   "cell_type": "markdown",
   "id": "0c2d8ad6",
   "metadata": {},
   "source": [
    "Q3"
   ]
  },
  {
   "cell_type": "code",
   "execution_count": 9,
   "id": "093717b8",
   "metadata": {},
   "outputs": [],
   "source": [
    "l = [2,1,631,4,53,21,80]\n",
    "res = reduce(lambda a,b:max(a,b),l)"
   ]
  },
  {
   "cell_type": "code",
   "execution_count": 10,
   "id": "749c7728",
   "metadata": {},
   "outputs": [
    {
     "name": "stdout",
     "output_type": "stream",
     "text": [
      "631\n"
     ]
    }
   ],
   "source": [
    "print(res)"
   ]
  },
  {
   "cell_type": "markdown",
   "id": "5bdce6b2",
   "metadata": {},
   "source": [
    "Q4"
   ]
  },
  {
   "cell_type": "code",
   "execution_count": 11,
   "id": "04e63a02",
   "metadata": {},
   "outputs": [
    {
     "name": "stdout",
     "output_type": "stream",
     "text": [
      "heytherehowareyou\n"
     ]
    }
   ],
   "source": [
    "l = [\"hey\",\"there\",\"how\",\"are\",\"you\"]\n",
    "res = reduce(lambda a,b:a+b,l)\n",
    "print(res)"
   ]
  },
  {
   "cell_type": "markdown",
   "id": "725d3f4e",
   "metadata": {},
   "source": [
    "Q5"
   ]
  },
  {
   "cell_type": "code",
   "execution_count": 14,
   "id": "f4a126c8",
   "metadata": {},
   "outputs": [
    {
     "name": "stdout",
     "output_type": "stream",
     "text": [
      "Enter a number 4\n",
      "24\n"
     ]
    }
   ],
   "source": [
    "n = int(input(\"Enter a number \"))\n",
    "res = reduce(lambda a,b:a*b,range(1,n+1))\n",
    "print(res)"
   ]
  },
  {
   "cell_type": "markdown",
   "id": "f51f6dc6",
   "metadata": {},
   "source": [
    "Q6"
   ]
  },
  {
   "cell_type": "code",
   "execution_count": 15,
   "id": "5b548a21",
   "metadata": {},
   "outputs": [
    {
     "name": "stdout",
     "output_type": "stream",
     "text": [
      "The GCD of [12, 18, 24, 36] is 6\n"
     ]
    }
   ],
   "source": [
    "from functools import reduce\n",
    "import math\n",
    "\n",
    "\n",
    "numbers = [12, 18, 24, 36]\n",
    "\n",
    "gcd = reduce(math.gcd, numbers)\n",
    "print(f\"The GCD of {numbers} is {gcd}\")\n"
   ]
  },
  {
   "cell_type": "markdown",
   "id": "20275e40",
   "metadata": {},
   "source": [
    "Q7"
   ]
  },
  {
   "cell_type": "code",
   "execution_count": 20,
   "id": "ed012544",
   "metadata": {},
   "outputs": [
    {
     "name": "stdout",
     "output_type": "stream",
     "text": [
      "Enter a number: 33\n",
      "The sum of the digits in 33 is 6\n",
      "<function digit_to_int at 0x000001751D6FC790>\n",
      "[3, 3]\n"
     ]
    }
   ],
   "source": [
    "from functools import reduce\n",
    "def digit_to_int(digit):\n",
    "    return int(digit)\n",
    "\n",
    "\n",
    "number = input(\"Enter a number: \")\n",
    "\n",
    "digits = list(map(digit_to_int, number))\n",
    "\n",
    "\n",
    "digit_sum = reduce(lambda x, y: x + y, digits)\n",
    "\n",
    "\n",
    "print(f\"The sum of the digits in {number} is {digit_sum}\")\n",
    "x= digit_to_int\n",
    "print(x)\n",
    "print(digits)"
   ]
  },
  {
   "cell_type": "markdown",
   "id": "52771c2d",
   "metadata": {},
   "source": [
    "# Function Parameters and Arguments:"
   ]
  },
  {
   "cell_type": "code",
   "execution_count": 1,
   "id": "cb2f40b8",
   "metadata": {},
   "outputs": [
    {
     "name": "stdout",
     "output_type": "stream",
     "text": [
      "7\n"
     ]
    }
   ],
   "source": [
    "def fun(a=2,b=5):\n",
    "    return a+b\n",
    "print(fun())"
   ]
  },
  {
   "cell_type": "code",
   "execution_count": 2,
   "id": "a9ddd3d4",
   "metadata": {},
   "outputs": [
    {
     "data": {
      "text/plain": [
       "\"n Python, you can use keyword arguments in function calls to specify the argument values by \\ntheir parameter names. This provides clarity and flexibility in function calls, especially \\nwhen you want to provide arguments in a different order\\nthan they are defined in the function's parameter list\""
      ]
     },
     "execution_count": 2,
     "metadata": {},
     "output_type": "execute_result"
    }
   ],
   "source": [
    "\"\"\"n Python, you can use keyword arguments in function calls to specify the argument values by \n",
    "their parameter names. This provides clarity and flexibility in function calls, especially \n",
    "when you want to provide arguments in a different order\n",
    "than they are defined in the function's parameter list\"\"\""
   ]
  },
  {
   "cell_type": "code",
   "execution_count": 3,
   "id": "fda404e7",
   "metadata": {},
   "outputs": [
    {
     "name": "stdout",
     "output_type": "stream",
     "text": [
      "The sum is: 15\n"
     ]
    }
   ],
   "source": [
    "def calculate_sum(*args):\n",
    "    total = 0\n",
    "    for num in args:\n",
    "        total += num\n",
    "    return total\n",
    "\n",
    "# Example usage:\n",
    "result = calculate_sum(1, 2, 3, 4, 5)\n",
    "print(\"The sum is:\", result)\n"
   ]
  },
  {
   "cell_type": "code",
   "execution_count": 5,
   "id": "7e54cc0a",
   "metadata": {},
   "outputs": [
    {
     "data": {
      "text/plain": [
       "'The *args and **kwargs syntax in function parameter lists in Python are used to handle a \\nvariable number of arguments when defining functions'"
      ]
     },
     "execution_count": 5,
     "metadata": {},
     "output_type": "execute_result"
    }
   ],
   "source": [
    "\"\"\"The *args and **kwargs syntax in function parameter lists in Python are used to handle a \n",
    "variable number of arguments when defining functions\"\"\""
   ]
  },
  {
   "cell_type": "code",
   "execution_count": 6,
   "id": "e1c72faf",
   "metadata": {},
   "outputs": [
    {
     "data": {
      "text/plain": [
       "'**kwargs lets you pass any number of named values to a function. It collects these named values \\ninto a dictionary, \\nallowing the function to access them by name.'"
      ]
     },
     "execution_count": 6,
     "metadata": {},
     "output_type": "execute_result"
    }
   ],
   "source": [
    "\"\"\"**kwargs lets you pass any number of named values to a function. It collects these named values \n",
    "into a dictionary, \n",
    "allowing the function to access them by name.\"\"\""
   ]
  },
  {
   "cell_type": "markdown",
   "id": "0e6169f0",
   "metadata": {},
   "source": [
    "# Return Values and Scoping:\n"
   ]
  },
  {
   "cell_type": "code",
   "execution_count": 7,
   "id": "2fa3c5d7",
   "metadata": {},
   "outputs": [
    {
     "data": {
      "text/plain": [
       "'The return statement in Python functions is used to specify what the function should\\noutput as its result. When a function reaches a return statement, it immediately exits, and \\nthe value provided with the return statement \\nis sent back as the result of the function call. '"
      ]
     },
     "execution_count": 7,
     "metadata": {},
     "output_type": "execute_result"
    }
   ],
   "source": [
    "\"\"\"The return statement in Python functions is used to specify what the function should\n",
    "output as its result. When a function reaches a return statement, it immediately exits, and \n",
    "the value provided with the return statement \n",
    "is sent back as the result of the function call. \"\"\""
   ]
  },
  {
   "cell_type": "code",
   "execution_count": 10,
   "id": "dda8aa71",
   "metadata": {},
   "outputs": [
    {
     "name": "stdout",
     "output_type": "stream",
     "text": [
      "10\n"
     ]
    },
    {
     "ename": "NameError",
     "evalue": "name 'x' is not defined",
     "output_type": "error",
     "traceback": [
      "\u001b[1;31m---------------------------------------------------------------------------\u001b[0m",
      "\u001b[1;31mNameError\u001b[0m                                 Traceback (most recent call last)",
      "Cell \u001b[1;32mIn[10], line 11\u001b[0m\n\u001b[0;32m      8\u001b[0m     \u001b[38;5;28mprint\u001b[39m(x)  \u001b[38;5;66;03m# Accessible here\u001b[39;00m\n\u001b[0;32m     10\u001b[0m my_function()\n\u001b[1;32m---> 11\u001b[0m \u001b[38;5;28mprint\u001b[39m(\u001b[43mx\u001b[49m)\n",
      "\u001b[1;31mNameError\u001b[0m: name 'x' is not defined"
     ]
    }
   ],
   "source": [
    "\"\"\"Local Scope:\n",
    "\n",
    "Variables defined inside a function have local scope. They are only accessible within that specific function.\n",
    "These variables are temporary and exist only for the duration of the function's execution.\n",
    "Variables with local scope are not visible or accessible outside the function in which they are defined.\"\"\"\n",
    "def my_function():\n",
    "    x = 10  # x has local scope\n",
    "    print(x)  # Accessible here\n",
    "\n",
    "my_function()\n",
    "print(x)  # Raises an error because x is not accessible here\n",
    "\n"
   ]
  },
  {
   "cell_type": "code",
   "execution_count": 13,
   "id": "52c1d7cf",
   "metadata": {},
   "outputs": [
    {
     "name": "stdout",
     "output_type": "stream",
     "text": [
      "20\n",
      "20\n",
      "20\n",
      "30\n"
     ]
    }
   ],
   "source": [
    "\"\"\"Global Scope:\n",
    "\n",
    "Variables defined outside of any function have global scope. They are accessible throughout the entire program.\n",
    "Global variables are available for use in all functions, including the main program.\n",
    "Changes to global variables made within a function affect their value throughout the entire program.\"\"\"\n",
    "y = 20  # y has global scope\n",
    "\n",
    "def another_function():\n",
    "    print(y)  # Accessible here\n",
    "\n",
    "another_function()\n",
    "print(y)  # Accessible here, and it reflects changes made in another_function\n",
    "\n",
    "def modify_global():\n",
    "    global y  # Use the 'global' keyword to indicate you want to modify the global variable\n",
    "    y = 30\n",
    "print(y)\n",
    "modify_global()\n",
    "print(y)  # Value of y is now 30"
   ]
  },
  {
   "cell_type": "code",
   "execution_count": 14,
   "id": "86d971e6",
   "metadata": {},
   "outputs": [
    {
     "name": "stdout",
     "output_type": "stream",
     "text": [
      "Global variable before modification: 10\n",
      "Global variable after modification: 20\n",
      "Global variable inside use_global: 20\n"
     ]
    }
   ],
   "source": [
    "# Global variable\n",
    "global_variable = 10\n",
    "\n",
    "def modify_global():\n",
    "    # Use the 'global' keyword to indicate you want to modify the global variable\n",
    "    global global_variable\n",
    "    global_variable = 20\n",
    "\n",
    "def use_global():\n",
    "    print(\"Global variable inside use_global:\", global_variable)\n",
    "\n",
    "# Display the global variable before modification\n",
    "print(\"Global variable before modification:\", global_variable)\n",
    "\n",
    "# Call the modify_global function to change the global variable\n",
    "modify_global()\n",
    "\n",
    "# Display the global variable after modification\n",
    "print(\"Global variable after modification:\", global_variable)\n",
    "\n",
    "# Call the use_global function to access the global variable\n",
    "use_global()\n"
   ]
  },
  {
   "cell_type": "code",
   "execution_count": 18,
   "id": "f68ad39f",
   "metadata": {},
   "outputs": [
    {
     "name": "stdout",
     "output_type": "stream",
     "text": [
      "Enter a number 4\n"
     ]
    },
    {
     "data": {
      "text/plain": [
       "24"
      ]
     },
     "execution_count": 18,
     "metadata": {},
     "output_type": "execute_result"
    }
   ],
   "source": [
    "def f1(n):\n",
    "    if n==0:\n",
    "        return 1\n",
    "    else:\n",
    "        return n * f1(n-1)\n",
    "n = int(input(\"Enter a number \"))\n",
    "f1(n)"
   ]
  },
  {
   "cell_type": "code",
   "execution_count": 19,
   "id": "612f2a66",
   "metadata": {},
   "outputs": [
    {
     "name": "stdout",
     "output_type": "stream",
     "text": [
      "Inside the function: 10\n",
      "Outside the function: 10\n"
     ]
    }
   ],
   "source": [
    "global_variable = 10  # This is a global variable\n",
    "\n",
    "def access_global_variable():\n",
    "    # You can access the global_variable within the function\n",
    "    print(\"Inside the function:\", global_variable)\n",
    "\n",
    "access_global_variable()  # Call the function\n",
    "\n",
    "# You can also access the global variable outside the function\n",
    "print(\"Outside the function:\", global_variable)\n"
   ]
  },
  {
   "cell_type": "markdown",
   "id": "7ff6df29",
   "metadata": {},
   "source": [
    "# Lambda Functions and Higher-Order Functions:\n"
   ]
  },
  {
   "cell_type": "code",
   "execution_count": 20,
   "id": "e3db2eed",
   "metadata": {},
   "outputs": [
    {
     "data": {
      "text/plain": [
       "'Lambda functions in Python are a way to create small, anonymous, and inline functions.\\nThey are also known as lambda expressions or lambda notation. '"
      ]
     },
     "execution_count": 20,
     "metadata": {},
     "output_type": "execute_result"
    }
   ],
   "source": [
    "\"\"\"Lambda functions in Python are a way to create small, anonymous, and inline functions.\n",
    "They are also known as lambda expressions or lambda notation. \"\"\""
   ]
  },
  {
   "cell_type": "code",
   "execution_count": 27,
   "id": "8ae89e4d",
   "metadata": {},
   "outputs": [
    {
     "name": "stdout",
     "output_type": "stream",
     "text": [
      "[('Bob', 20), ('David', 22), ('Alice', 25), ('Charlie', 30)]\n",
      "('Bob', 20)\n",
      "('David', 22)\n",
      "('Alice', 25)\n",
      "('Charlie', 30)\n"
     ]
    }
   ],
   "source": [
    "# List of tuples\n",
    "students = [('Alice', 25), ('Bob', 20), ('Charlie', 30), ('David', 22)]\n",
    "\n",
    "# Sort the list based on the second element of each tuple (age)\n",
    "sorted_students = sorted(students, key=lambda x: x[1])\n",
    "\n",
    "# Print the sorted list\n",
    "for student in sorted_students:\n",
    "    print(student)\n",
    "\n"
   ]
  },
  {
   "cell_type": "code",
   "execution_count": 29,
   "id": "52ad66c8",
   "metadata": {},
   "outputs": [
    {
     "name": "stdout",
     "output_type": "stream",
     "text": [
      "25\n",
      "6\n"
     ]
    }
   ],
   "source": [
    "'''Higher-order functions in Python are functions that can accept other functions as arguments or \n",
    "return functions as their results. They treat functions as first-class citizens, allowing you to work \n",
    "with them as you would with other data types like numbers or strings. Higher-order functions are a \n",
    "fundamental concept in functional programming and\n",
    "provide a powerful way to write concise and flexible code'''\n",
    "def apply(func, x):\n",
    "    return func(x)\n",
    "\n",
    "def square(x):\n",
    "    return x ** 2\n",
    "\n",
    "def double(x):\n",
    "    return x * 2\n",
    "\n",
    "result1 = apply(square, 5)  # Calls apply with square function\n",
    "result2 = apply(double, 3)  # Calls apply with double function\n",
    "\n",
    "print(result1)  # Output: 25 (5 squared)\n",
    "print(result2)  # Output: 6 (3 doubled)\n"
   ]
  },
  {
   "cell_type": "code",
   "execution_count": 37,
   "id": "897ccf5e",
   "metadata": {},
   "outputs": [
    {
     "name": "stdout",
     "output_type": "stream",
     "text": [
      "[1, 4, 16, 36, 49]\n"
     ]
    }
   ],
   "source": [
    "l = [1,2,4,6,7]\n",
    "def fun(i):\n",
    "    return i*i\n",
    "\n",
    "def f1(l):\n",
    "    res = []\n",
    "    for i in l:\n",
    "        res.append(fun(i))\n",
    "    return res\n",
    "print(f1(l))\n",
    "\n",
    "    "
   ]
  },
  {
   "cell_type": "markdown",
   "id": "f4def272",
   "metadata": {},
   "source": [
    "# Built-in Functions:\n"
   ]
  },
  {
   "cell_type": "code",
   "execution_count": 38,
   "id": "e77e0db8",
   "metadata": {},
   "outputs": [
    {
     "data": {
      "text/plain": [
       "'The min() function returns the minimum value from a sequence or a set of arguments.\\nIt is used to find the smallest element among a collection of values.'"
      ]
     },
     "execution_count": 38,
     "metadata": {},
     "output_type": "execute_result"
    }
   ],
   "source": [
    "\"\"\"The len() function returns the number of items in an object, such as the length of a string, \n",
    "the number of elements in a list, or the number of key-value pairs in a dictionary.\n",
    "\"\"\"\n",
    "\"\"\"The max() function returns the maximum value from a sequence \n",
    "or a set of arguments.\n",
    "\"\"\"\n",
    "\"\"\"The min() function returns the minimum value from a sequence or a set of arguments.\n",
    "\n",
    "It is used to find the smallest element among a collection of values.\"\"\""
   ]
  },
  {
   "cell_type": "code",
   "execution_count": 40,
   "id": "965bfd6b",
   "metadata": {},
   "outputs": [
    {
     "name": "stdout",
     "output_type": "stream",
     "text": [
      "[1, 4, 9, 16, 25, 36, 49]\n"
     ]
    }
   ],
   "source": [
    "l = [1,2,3,4,5,6,7]\n",
    "def f1(i):\n",
    "    return i*i\n",
    "print(list(map(f1,l)))"
   ]
  },
  {
   "cell_type": "code",
   "execution_count": 42,
   "id": "cb578727",
   "metadata": {},
   "outputs": [],
   "source": [
    "\"\"\"The filter() function in Python is used to filter \n",
    "elements from an iterable (such as a list, tuple, or sequence) based on a provided function or condition.\n",
    "It returns an iterator containing the elements for \n",
    "which the condition specified in the function is True\"\"\""
   ]
  },
  {
   "cell_type": "code",
   "execution_count": 44,
   "id": "ec173a16",
   "metadata": {},
   "outputs": [
    {
     "name": "stdout",
     "output_type": "stream",
     "text": [
      "120\n"
     ]
    }
   ],
   "source": [
    "from functools import reduce \n",
    "l = [1,2,3,4,5]\n",
    "print(reduce(lambda a,b:a*b,l))"
   ]
  },
  {
   "cell_type": "markdown",
   "id": "d47decaa",
   "metadata": {},
   "source": [
    "# Function Documentation and Best Practices:\n"
   ]
  },
  {
   "cell_type": "code",
   "execution_count": 45,
   "id": "6b63105d",
   "metadata": {},
   "outputs": [
    {
     "data": {
      "text/plain": [
       "\"Docstrings in Python functions serve as a way to document the purpose, usage, and\\nbehavior of the function. They are essentially string literals that\\nprovide human-readable documentation within the function's code.\""
      ]
     },
     "execution_count": 45,
     "metadata": {},
     "output_type": "execute_result"
    }
   ],
   "source": [
    "\"\"\"Docstrings in Python functions serve as a way to document the purpose, usage, and\n",
    "behavior of the function. They are essentially string literals that\n",
    "provide human-readable documentation within the function's code.\"\"\""
   ]
  },
  {
   "cell_type": "code",
   "execution_count": 46,
   "id": "36cbcc0f",
   "metadata": {},
   "outputs": [
    {
     "data": {
      "text/plain": [
       "'Naming functions and variables in Python is essential for writing readable, maintainable, and understandable code. Here are some best practices, naming conventions, and guidelines:\\n\\nFor Variable Names:\\n\\nUse descriptive and meaningful names: Choose names that clearly indicate the purpose or content of the variable. This makes your code self-explanatory.\\n\\nUse lowercase letters: Variable names should be in lowercase. If the name consists of multiple words, separate them with underscores (snake_case).\\n\\nExample: student_name, average_score, counter\\n\\nBe concise but not too short: Balance between being concise and providing enough context. Avoid excessively long names, but don\\'t make them too short or cryptic.\\n\\nGood: customer_name, total_count\\nNot ideal: cust_n, t_c\\n\\nAvoid using single letters as variable names (except for common iterators like i, j, and k). Single letters are not descriptive.\\n\\nUse underscores for constants: If you have constants, use uppercase letters with underscores to separate words (UPPER_CASE).\\n\\nExample: MAX_VALUE, PI\\n\\nDon\\'t use Python\\'s reserved keywords (e.g., if, else, while) as variable names.\\n\\nFor Function Names:\\n\\nUse descriptive and verb-based names: Function names should describe the action the function performs.\\n\\nExample: calculate_average, find_max_value, parse_data\\n\\nUse lowercase letters: Function names should be in lowercase. If the name consists of multiple words, separate them with underscores (snake_case).\\n\\nExample: process_data, update_user_info\\n\\nBe concise but not too short: Similar to variable names, make function names concise and informative, but avoid overly long names.\\n\\nGood: calculate_average, get_user_data\\nNot ideal: calc_avg, ud\\n\\nFollow the Python PEP 8 style guide: PEP 8 is the Python Enhancement Proposal that provides a style guide for Python code. Following PEP 8 ensures consistency and readability in your code.\\n\\nUse the appropriate verb tense: Use the present tense for functions that perform actions, and the imperative mood for functions that give orders.\\n\\nExample: calculate_average (present tense), save_data (imperative mood)\\n\\nAvoid leading underscores (e.g., _private_function). Leading underscores are often used to indicate \"private\" functions, but they are just a convention and don\\'t provide actual access control.\\n\\nName functions consistently: If you have similar functions, name them consistently, so it\\'s clear they are related.\\n\\nExample: get_user_data, update_user_data, delete_user_data'"
      ]
     },
     "execution_count": 46,
     "metadata": {},
     "output_type": "execute_result"
    }
   ],
   "source": [
    "\"\"\"Naming functions and variables in Python is essential for writing readable, maintainable, and understandable code. Here are some best practices, naming conventions, and guidelines:\n",
    "\n",
    "For Variable Names:\n",
    "\n",
    "Use descriptive and meaningful names: Choose names that clearly indicate the purpose or content of the variable. This makes your code self-explanatory.\n",
    "\n",
    "Use lowercase letters: Variable names should be in lowercase. If the name consists of multiple words, separate them with underscores (snake_case).\n",
    "\n",
    "Example: student_name, average_score, counter\n",
    "\n",
    "Be concise but not too short: Balance between being concise and providing enough context. Avoid excessively long names, but don't make them too short or cryptic.\n",
    "\n",
    "Good: customer_name, total_count\n",
    "Not ideal: cust_n, t_c\n",
    "\n",
    "Avoid using single letters as variable names (except for common iterators like i, j, and k). Single letters are not descriptive.\n",
    "\n",
    "Use underscores for constants: If you have constants, use uppercase letters with underscores to separate words (UPPER_CASE).\n",
    "\n",
    "Example: MAX_VALUE, PI\n",
    "\n",
    "Don't use Python's reserved keywords (e.g., if, else, while) as variable names.\n",
    "\n",
    "For Function Names:\n",
    "\n",
    "Use descriptive and verb-based names: Function names should describe the action the function performs.\n",
    "\n",
    "Example: calculate_average, find_max_value, parse_data\n",
    "\n",
    "Use lowercase letters: Function names should be in lowercase. If the name consists of multiple words, separate them with underscores (snake_case).\n",
    "\n",
    "Example: process_data, update_user_info\n",
    "\n",
    "Be concise but not too short: Similar to variable names, make function names concise and informative, but avoid overly long names.\n",
    "\n",
    "Good: calculate_average, get_user_data\n",
    "Not ideal: calc_avg, ud\n",
    "\n",
    "Follow the Python PEP 8 style guide: PEP 8 is the Python Enhancement Proposal that provides a style guide for Python code. Following PEP 8 ensures consistency and readability in your code.\n",
    "\n",
    "Use the appropriate verb tense: Use the present tense for functions that perform actions, and the imperative mood for functions that give orders.\n",
    "\n",
    "Example: calculate_average (present tense), save_data (imperative mood)\n",
    "\n",
    "Avoid leading underscores (e.g., _private_function). Leading underscores are often used to indicate \"private\" functions, but they are just a convention and don't provide actual access control.\n",
    "\n",
    "Name functions consistently: If you have similar functions, name them consistently, so it's clear they are related.\n",
    "\n",
    "Example: get_user_data, update_user_data, delete_user_data\"\"\""
   ]
  },
  {
   "cell_type": "code",
   "execution_count": null,
   "id": "b55d4d24",
   "metadata": {},
   "outputs": [],
   "source": []
  }
 ],
 "metadata": {
  "kernelspec": {
   "display_name": "Python 3 (ipykernel)",
   "language": "python",
   "name": "python3"
  },
  "language_info": {
   "codemirror_mode": {
    "name": "ipython",
    "version": 3
   },
   "file_extension": ".py",
   "mimetype": "text/x-python",
   "name": "python",
   "nbconvert_exporter": "python",
   "pygments_lexer": "ipython3",
   "version": "3.10.9"
  }
 },
 "nbformat": 4,
 "nbformat_minor": 5
}
